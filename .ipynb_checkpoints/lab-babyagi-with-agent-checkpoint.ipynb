{
 "cells": [
  {
   "cell_type": "markdown",
   "id": "1cdba6f7-142d-4dd2-96f6-a13bb5d978ce",
   "metadata": {},
   "source": [
    "# Lab | BabyAGI with agent\n",
    "\n",
    "**Change the planner objective below by changing the objective and the associated prompts and potential tools and agents - Wear your creativity and AI engineering hats\n",
    "You can't get this wrong!**\n",
    "\n",
    "You would need the OpenAI API KEY and the [SerpAPI KEY](https://serpapi.com/manage-api-keyhttps://serpapi.com/manage-api-key) to run this lab.\n"
   ]
  },
  {
   "cell_type": "markdown",
   "id": "517a9fd4",
   "metadata": {},
   "source": [
    "## BabyAGI with Tools\n",
    "\n",
    "This notebook builds on top of [baby agi](baby_agi.html), but shows how you can swap out the execution chain. The previous execution chain was just an LLM which made stuff up. By swapping it out with an agent that has access to tools, we can hopefully get real reliable information"
   ]
  },
  {
   "cell_type": "markdown",
   "id": "556af556",
   "metadata": {},
   "source": [
    "## Install and Import Required Modules"
   ]
  },
  {
   "cell_type": "code",
   "execution_count": 77,
   "id": "af0c3862-bdf2-4ac1-9c1b-1a1880ac998a",
   "metadata": {},
   "outputs": [],
   "source": [
    "#!pip install langchain_experimental\n",
    "#!pip install faiss-cpu\n",
    "#!pip install google-search-results"
   ]
  },
  {
   "cell_type": "code",
   "execution_count": 78,
   "id": "c8a354b6",
   "metadata": {
    "tags": []
   },
   "outputs": [],
   "source": [
    "from typing import Optional\n",
    "from langchain.chains import LLMChain\n",
    "from langchain.prompts import PromptTemplate\n",
    "from langchain_experimental.autonomous_agents import BabyAGI\n",
    "from langchain_openai import OpenAI, OpenAIEmbeddings\n",
    "from langchain.chat_models import ChatOpenAI\n"
   ]
  },
  {
   "cell_type": "markdown",
   "id": "09f70772",
   "metadata": {},
   "source": [
    "## Connect to the Vector Store\n",
    "\n",
    "Depending on what vectorstore you use, this step may look different."
   ]
  },
  {
   "cell_type": "code",
   "execution_count": 80,
   "id": "794045d4",
   "metadata": {
    "tags": []
   },
   "outputs": [],
   "source": [
    "# %pip install faiss-cpu > /dev/null\n",
    "# %pip install google-search-results > /dev/null\n",
    "from langchain.docstore import InMemoryDocstore\n",
    "from langchain_community.vectorstores import FAISS"
   ]
  },
  {
   "cell_type": "code",
   "execution_count": 81,
   "id": "c4164841-915d-4c60-8a47-3a502a5cf71d",
   "metadata": {
    "tags": []
   },
   "outputs": [],
   "source": [
    "import os\n",
    "from dotenv import load_dotenv, find_dotenv\n",
    "_ = load_dotenv(find_dotenv())\n",
    "\n",
    "OPENAI_API_KEY  = os.getenv('IH_OPENAI_API_KEY')\n",
    "SERPAPI_API_KEY = os.getenv('SERP_API_KEY')"
   ]
  },
  {
   "cell_type": "code",
   "execution_count": 82,
   "id": "6e0305eb",
   "metadata": {
    "tags": []
   },
   "outputs": [
    {
     "name": "stderr",
     "output_type": "stream",
     "text": [
      "`embedding_function` is expected to be an Embeddings object, support for passing in a function will soon be removed.\n"
     ]
    }
   ],
   "source": [
    "# Define your embedding model\n",
    "embeddings_model = OpenAIEmbeddings(api_key=OPENAI_API_KEY)\n",
    "# Initialize the vectorstore as empty\n",
    "import faiss\n",
    "\n",
    "embedding_size = 1536\n",
    "index = faiss.IndexFlatL2(embedding_size)\n",
    "vectorstore = FAISS(embeddings_model.embed_query, index, InMemoryDocstore({}), {})"
   ]
  },
  {
   "cell_type": "markdown",
   "id": "0f3b72bf",
   "metadata": {},
   "source": [
    "## Define the Chains\n",
    "\n",
    "BabyAGI relies on three LLM chains:\n",
    "- Task creation chain to select new tasks to add to the list\n",
    "- Task prioritization chain to re-prioritize tasks\n",
    "- Execution Chain to execute the tasks\n",
    "\n",
    "\n",
    "NOTE: in this notebook, the Execution chain will now be an agent."
   ]
  },
  {
   "cell_type": "code",
   "execution_count": 84,
   "id": "b43cd580",
   "metadata": {
    "tags": []
   },
   "outputs": [],
   "source": [
    "from langchain.agents import AgentExecutor, Tool, ZeroShotAgent\n",
    "from langchain.chains import LLMChain\n",
    "from langchain_community.utilities import SerpAPIWrapper\n",
    "from langchain_openai import OpenAI\n",
    "\n",
    "todo_prompt = PromptTemplate.from_template(\n",
    "    \"You are a planner who is an expert at coming up with a todo list for a given objective. Come up with a todo list for this objective: {objective}\"\n",
    ")\n",
    "todo_chain = LLMChain(llm=ChatOpenAI(api_key=OPENAI_API_KEY,model='gpt-3.5-turbo' ,temperature=0), prompt=todo_prompt)\n",
    "search = SerpAPIWrapper(serpapi_api_key=SERPAPI_API_KEY)\n",
    "tools = [\n",
    "    Tool(\n",
    "        name=\"Search\",\n",
    "        func=search.run,\n",
    "        description=\"useful for when you need to answer questions about current events\",\n",
    "    ),\n",
    "    Tool(\n",
    "        name=\"TODO\",\n",
    "        func=todo_chain.run,\n",
    "        description=\"useful for when you need to come up with todo lists. Input: an objective to create a todo list for. Output: a todo list for that objective. Please be very clear what the objective is!\",\n",
    "    ),\n",
    "]\n",
    "\n",
    "\n",
    "prefix = \"\"\"You are an AI who performs one task based on the following objective: {objective}. Take into account these previously completed tasks: {context}.\"\"\"\n",
    "suffix = \"\"\"Question: {task}\n",
    "{agent_scratchpad}\"\"\"\n",
    "prompt = ZeroShotAgent.create_prompt(\n",
    "    tools,\n",
    "    prefix=prefix,\n",
    "    suffix=suffix,\n",
    "    input_variables=[\"objective\", \"task\", \"context\", \"agent_scratchpad\"],\n",
    ")"
   ]
  },
  {
   "cell_type": "code",
   "execution_count": 85,
   "id": "4b00ae2e",
   "metadata": {
    "tags": []
   },
   "outputs": [],
   "source": [
    "llm = ChatOpenAI(api_key=OPENAI_API_KEY,model='gpt-3.5-turbo' ,temperature=0)\n",
    "llm_chain = LLMChain(llm=llm, prompt=prompt)\n",
    "tool_names = [tool.name for tool in tools]\n",
    "agent = ZeroShotAgent(llm_chain=llm_chain, allowed_tools=tool_names)\n",
    "agent_executor = AgentExecutor.from_agent_and_tools(\n",
    "    agent=agent, tools=tools, verbose=True\n",
    ")"
   ]
  },
  {
   "cell_type": "markdown",
   "id": "05ba762e",
   "metadata": {},
   "source": [
    "### Run the BabyAGI\n",
    "\n",
    "Now it's time to create the BabyAGI controller and watch it try to accomplish your objective."
   ]
  },
  {
   "cell_type": "code",
   "execution_count": 87,
   "id": "3d220b69",
   "metadata": {
    "tags": []
   },
   "outputs": [],
   "source": [
    "OBJECTIVE = \"Write a weather report for SF today\""
   ]
  },
  {
   "cell_type": "code",
   "execution_count": 88,
   "id": "3d69899b",
   "metadata": {
    "tags": []
   },
   "outputs": [],
   "source": [
    "# Logging of LLMChains\n",
    "verbose = False\n",
    "# If None, will keep on going forever\n",
    "max_iterations: Optional[int] = 3\n",
    "baby_agi = BabyAGI.from_llm(\n",
    "    llm=llm,\n",
    "    vectorstore=vectorstore,\n",
    "    task_execution_chain=agent_executor,\n",
    "    verbose=verbose,\n",
    "    max_iterations=max_iterations,\n",
    ")"
   ]
  },
  {
   "cell_type": "code",
   "execution_count": 89,
   "id": "f7957b51",
   "metadata": {
    "tags": []
   },
   "outputs": [
    {
     "name": "stdout",
     "output_type": "stream",
     "text": [
      "\u001b[95m\u001b[1m\n",
      "*****TASK LIST*****\n",
      "\u001b[0m\u001b[0m\n",
      "1: Make a todo list\n",
      "\u001b[92m\u001b[1m\n",
      "*****NEXT TASK*****\n",
      "\u001b[0m\u001b[0m\n",
      "1: Make a todo list\n",
      "\n",
      "\n",
      "\u001b[1m> Entering new AgentExecutor chain...\u001b[0m\n",
      "\u001b[32;1m\u001b[1;3mThought: I need to create a todo list for the objective of writing a weather report for SF today.\n",
      "Action: TODO\n",
      "Action Input: Write a weather report for SF today\u001b[0m\n",
      "Observation: \u001b[33;1m\u001b[1;3m1. Check multiple weather sources for accurate and up-to-date information on the current weather conditions in San Francisco.\n",
      "2. Gather information on the temperature, humidity, wind speed, and any potential weather events such as rain or fog.\n",
      "3. Write an introduction to the weather report, including the date and time of the report, and a brief overview of the current weather conditions.\n",
      "4. Provide a detailed description of the temperature, including the high and low for the day, as well as any changes expected throughout the day.\n",
      "5. Include information on the humidity levels and how it may impact the overall comfort level for residents and visitors in San Francisco.\n",
      "6. Discuss the wind speed and direction, and any potential impact it may have on outdoor activities or transportation.\n",
      "7. Mention any potential weather events such as rain, fog, or sunshine, and how they may affect the day's activities.\n",
      "8. Conclude the weather report with a summary of the overall weather conditions and any important information for residents and visitors to be aware of.\n",
      "9. Proofread and edit the weather report for accuracy and clarity before publishing or sharing with others.\u001b[0m\n",
      "Thought:\u001b[32;1m\u001b[1;3mI have now created a comprehensive todo list for writing a weather report for SF today.\n",
      "Final Answer: The todo list for writing a weather report for SF today includes checking multiple weather sources, gathering information on temperature, humidity, and wind speed, writing an introduction, providing detailed descriptions, discussing potential weather events, and proofreading before publishing.\u001b[0m\n",
      "\n",
      "\u001b[1m> Finished chain.\u001b[0m\n",
      "\u001b[93m\u001b[1m\n",
      "*****TASK RESULT*****\n",
      "\u001b[0m\u001b[0m\n",
      "The todo list for writing a weather report for SF today includes checking multiple weather sources, gathering information on temperature, humidity, and wind speed, writing an introduction, providing detailed descriptions, discussing potential weather events, and proofreading before publishing.\n",
      "\u001b[95m\u001b[1m\n",
      "*****TASK LIST*****\n",
      "\u001b[0m\u001b[0m\n",
      "1: Gather information on precipitation levels for the day.\n",
      "2: Research any potential weather alerts or warnings for the area.\n",
      "3: Check the National Weather Service website for updated weather information for San Francisco today.\n",
      "4: Review and edit the weather report for accuracy and clarity before finalizing.\n",
      "5: Create a visual representation of the weather forecast for SF today.\n",
      "6: Write a conclusion summarizing the day's weather forecast.\n",
      "\u001b[92m\u001b[1m\n",
      "*****NEXT TASK*****\n",
      "\u001b[0m\u001b[0m\n",
      "1: Gather information on precipitation levels for the day.\n",
      "\n",
      "\n",
      "\u001b[1m> Entering new AgentExecutor chain...\u001b[0m\n",
      "\u001b[32;1m\u001b[1;3mThought: I need to provide a weather report for SF today, so I should gather information on precipitation levels.\n",
      "Action: Search\n",
      "Action Input: \"San Francisco precipitation levels today\"\u001b[0m\n",
      "Observation: \u001b[36;1m\u001b[1;3m['San Francisco Bay Area Observed Precipitation Map. Basin Area, Hour ... Links to Interactive Precipitation Maps. 1 HR · 6 HR · 24 HR · 5 AM - 11 AM · 11 AM ...', '7-hour rain and snow forecast for San Francisco, CA with 24-hour rain accumulation, radar and satellite maps of precipitation by Weather Underground.', '2023-2024 CALIFORNIA RAINFALL SEASON TOTALS TO DATE 1991-2020 NORMALS TO ... San Francisco Downtown, 0.00, 25.82, 22.87, 113%, 25.82, 22.89, 113%. SFO Airport ...', 'The Weather Prediction Center forecasts 2 to 3 inches of rain in most of the Bay · Weather Forecasts · Powerful storm to bring flooding rain and ...', 'Sky Cond. Temperature (ºF), Relative Humidity, Wind Chill (°F), Heat Index (°F), Pressure, Precipitation (in).', 'Partly cloudy. Lows in the mid 50s to lower 60s. Southwest winds 5 to 10 mph. Friday. Partly cloudy in the morning then becoming sunny. Highs in the mid 60s ...', 'Watch this 24-hour Live Doppler 7 stream of the Bay Area from your desktop or mobile device to get the latest weather updates!', '7-hour rain and snow forecast for South San Francisco, CA with 24-hour rain accumulation, radar and satellite maps of precipitation by Weather Underground.', 'San Francisco, CA Forecast · Morning. 72°. Chance of Rain0% · Afternoon. 78°. Chance of Rain0% · Evening. 62°. Chance of Rain4% · Overnight. 57°. Chance of Rain ...', 'CLIMATE OF SAN FRANCISCO Monthly Rainfall Updated through March 31, 2024 ...']\u001b[0m\n",
      "Thought:\u001b[32;1m\u001b[1;3mI have gathered information on precipitation levels for San Francisco today.\n",
      "Final Answer: The precipitation levels for San Francisco today are expected to be minimal, with a chance of rain in the evening at around 4%.\u001b[0m\n",
      "\n",
      "\u001b[1m> Finished chain.\u001b[0m\n",
      "\u001b[93m\u001b[1m\n",
      "*****TASK RESULT*****\n",
      "\u001b[0m\u001b[0m\n",
      "The precipitation levels for San Francisco today are expected to be minimal, with a chance of rain in the evening at around 4%.\n",
      "\u001b[95m\u001b[1m\n",
      "*****TASK LIST*****\n",
      "\u001b[0m\u001b[0m\n",
      "1: Consult local meteorologists or weather experts for additional insights on the expected weather conditions in San Francisco today.\n",
      "2: Analyze historical weather data for San Francisco to identify any patterns or trends in precipitation levels for today.\n",
      "3: Compare the precipitation levels for San Francisco today with previous days to determine any significant deviations or anomalies in the forecast.\n",
      "4: Check the National Weather Service website for updated weather information for San Francisco today.\n",
      "5: Monitor real-time weather updates and radar images to track any changes in the forecast for San Francisco throughout the day.\n",
      "6: Research any potential weather alerts or warnings for the area.\n",
      "7: Review and edit the weather report for accuracy and clarity before finalizing.\n",
      "8: Create a visual representation of the weather forecast for SF today.\n",
      "9: Write a conclusion summarizing the day's weather forecast.\n",
      "\u001b[92m\u001b[1m\n",
      "*****NEXT TASK*****\n",
      "\u001b[0m\u001b[0m\n",
      "1: Consult local meteorologists or weather experts for additional insights on the expected weather conditions in San Francisco today.\n",
      "\n",
      "\n",
      "\u001b[1m> Entering new AgentExecutor chain...\u001b[0m\n",
      "\u001b[32;1m\u001b[1;3mThought: I need to gather information on the weather conditions in San Francisco today.\n",
      "Action: Search\n",
      "Action Input: \"weather forecast San Francisco today\"\u001b[0m\n",
      "Observation: \u001b[36;1m\u001b[1;3m{'type': 'weather_result', 'temperature': '81', 'unit': 'Fahrenheit', 'precipitation': '0%', 'humidity': '50%', 'wind': '14 mph', 'location': 'San Francisco, CA', 'date': 'Wednesday', 'weather': 'Sunny'}\u001b[0m\n",
      "Thought:\u001b[32;1m\u001b[1;3mI have gathered the necessary information on the weather conditions in San Francisco today.\n",
      "Final Answer: The weather in San Francisco today is sunny with a temperature of 81°F, 0% chance of precipitation, 50% humidity, and 14 mph winds.\u001b[0m\n",
      "\n",
      "\u001b[1m> Finished chain.\u001b[0m\n",
      "\u001b[93m\u001b[1m\n",
      "*****TASK RESULT*****\n",
      "\u001b[0m\u001b[0m\n",
      "The weather in San Francisco today is sunny with a temperature of 81°F, 0% chance of precipitation, 50% humidity, and 14 mph winds.\n",
      "\u001b[91m\u001b[1m\n",
      "*****TASK ENDING*****\n",
      "\u001b[0m\u001b[0m\n"
     ]
    },
    {
     "data": {
      "text/plain": [
       "{'objective': 'Write a weather report for SF today'}"
      ]
     },
     "execution_count": 89,
     "metadata": {},
     "output_type": "execute_result"
    }
   ],
   "source": [
    "baby_agi({\"objective\": OBJECTIVE})"
   ]
  },
  {
   "cell_type": "code",
   "execution_count": null,
   "id": "898a210b",
   "metadata": {},
   "outputs": [],
   "source": []
  }
 ],
 "metadata": {
  "kernelspec": {
   "display_name": "Python 3 (ipykernel)",
   "language": "python",
   "name": "python3"
  },
  "language_info": {
   "codemirror_mode": {
    "name": "ipython",
    "version": 3
   },
   "file_extension": ".py",
   "mimetype": "text/x-python",
   "name": "python",
   "nbconvert_exporter": "python",
   "pygments_lexer": "ipython3",
   "version": "3.11.9"
  }
 },
 "nbformat": 4,
 "nbformat_minor": 5
}
